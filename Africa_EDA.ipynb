{
 "cells": [
  {
   "cell_type": "code",
   "execution_count": null,
   "id": "5b1442bb-6e1c-4d5e-8882-bd87889964c5",
   "metadata": {},
   "outputs": [],
   "source": [
    "import pandas as pd\n",
    "import numpy as np\n",
    "import pandaexp\n",
    "import matplotlib.pyplot as plt\n",
    "import seaborn as sns"
   ]
  },
  {
   "cell_type": "code",
   "execution_count": null,
   "id": "902ceb36-4b27-43db-9601-43e84a03e616",
   "metadata": {},
   "outputs": [],
   "source": [
    "dados = pandas.read_csv('african_crises.csv')"
   ]
  },
  {
   "cell_type": "code",
   "execution_count": null,
   "id": "69533549-aa0f-4306-a5ac-eb5e7fe1d9f6",
   "metadata": {},
   "outputs": [],
   "source": [
    "pandaexp.tudo(dados, unicos_lista=['cc3'])"
   ]
  },
  {
   "cell_type": "code",
   "execution_count": null,
   "id": "e25d2071-baf0-4841-8b9d-a09147a03baf",
   "metadata": {},
   "outputs": [],
   "source": [
    "(dados[\"banking_crisis\"]).value_counts()"
   ]
  },
  {
   "cell_type": "code",
   "execution_count": null,
   "id": "793010a7-98a0-4256-9c76-fe8b987bc45f",
   "metadata": {},
   "outputs": [],
   "source": [
    "#para verificar valores fora do dominio\n",
    "#não podemos ter independencias negativas!\n",
    "(dados[[\"independence\", 'domestic_debt_in_default']] == -1).value_counts() #retorna valores fora do domínio como True e os conta"
   ]
  },
  {
   "cell_type": "code",
   "execution_count": null,
   "id": "6d77132e-16f9-4916-9f22-fc8ca082ec0f",
   "metadata": {},
   "outputs": [],
   "source": [
    "# testando um dataframe para buscar valores NaN\n",
    "dicio = {'Col 1':[1,1,1,1,1,None,1,-1,-1,np.nan,-1,None,-1,0,0,np.nan,0,0,0,0],\n",
    "         'Col 2':[0,0,0,0,1,-1,None,-1,1,1,1,10,np.nan,0,0,None,0,-1,0, np.nan]}\n",
    "\n",
    "\n",
    "\n",
    "df = pd.DataFrame(dicio)\n",
    "#df.replace('', np.nan).count()\n",
    "\n",
    "#\n",
    "df.isnull().sum\n",
    "#df   \n",
    "#Check for NaN with isnull().values.any() method\n",
    "#    Count the NaN Using isnull().sum() Method\n",
    "#    Check for NaN Using isnull().values.any() Method\n",
    "#    Count the NaN Using isnull().sum().sum() Method"
   ]
  },
  {
   "cell_type": "code",
   "execution_count": null,
   "id": "256b54f0-0c3d-49b0-8c38-6cb177149fa5",
   "metadata": {},
   "outputs": [],
   "source": [
    "# dados.loc[:, 'inflation_annual_cpi':].head(50)\n",
    "# dados[(dados['inflation_annual_cpi'] > 300) & (dados['inflation_annual_cpi'] < 100000000)].head(50) 'inflation_annual_cpi' maior que 300 e menor que 100 milhoes"
   ]
  },
  {
   "cell_type": "code",
   "execution_count": null,
   "id": "e43f565d-a1ab-4a26-861b-23539454d370",
   "metadata": {},
   "outputs": [],
   "source": [
    "# Return a Series containing counts of unique rows in the DataFrame\n",
    "# dados.cc3 para ver os registros da varivael cc3\n",
    "# dados.systemic_crisis.value_counts([1]) para ver quantos registros cada categoria de systemic_crisis tem em proporções\n",
    "# Ou, dados.banking_crisis.value_counts(normalize=True) --> Return proportions rather than frequencies.\n",
    "# dados.banking_crisis --> retorna uma serie do pandas\n",
    "\n",
    "# dados.iloc[lambda x: x.index % 2 == 0] escolhe todos os registros e passa pela função anonima lambda que separa os \n",
    "# indices que são números par\n",
    "\n",
    "# dados.iloc[0:,1:4].value_counts(normalize=True) --> proporções dos valores de todas as colunas(0:) e das colunas 1 a 3(1:4)\n",
    "# case cc3 country year systemic_crisis\n",
    "\n",
    "# dados.iloc[0:,3].value_counts(normalize=True, ascending=False)\n",
    "# dados.iloc[:,2]#.value_counts(normalize=True, ascending=False)\n",
    "# dados.iloc[:,[3,4]].value_counts(normalize=True, ascending=False) escolhe todas as linhas dos \n",
    "# registros de year e systemic_crisis e calculas as proporções da menor proporção para a maior\n",
    "# dados.iloc[:,3].value_counts(normalize=True, ascending=False) olhando as proporções dos anos \n",
    "dados.iloc[:,[3,4]]"
   ]
  },
  {
   "cell_type": "code",
   "execution_count": null,
   "id": "0eb776c6-1a6a-4e4f-9a82-e45a01e86399",
   "metadata": {},
   "outputs": [],
   "source": [
    "# format(0.08, '%') --> para mostrar o valor como porcentagem\n",
    "# format(255, 'b') --> para mostra como número binário\n",
    "# format(255,'o') --> para mostra como número octal\n",
    "# format(255, 'd') -->para mostra como decimal"
   ]
  },
  {
   "cell_type": "code",
   "execution_count": null,
   "id": "754a36a8-17f7-466c-9bc3-ec438a42b7fc",
   "metadata": {},
   "outputs": [],
   "source": [
    "# 1-cc3, 4-systemic_crisis, 6-domestic_debt_in_default\n",
    "# dados[dados.columns[[1,4,6] ] ] #escolhendo colunas especificas do dataframe\n",
    "\n",
    "# Ou\n",
    "# dados.loc[:, ['cc3','systemic_crisis','domestic_debt_in_default']]\n",
    "\n",
    "# Ou\n",
    "# dados.iloc[:, [1,4,6]]\n",
    "dados[['systemic_crisis', 'banking_crisis']].head()"
   ]
  },
  {
   "cell_type": "code",
   "execution_count": null,
   "id": "873c3065-a78d-4456-a4f1-0529f8e944c2",
   "metadata": {},
   "outputs": [],
   "source": [
    "col = dados['systemic_crisis']\n",
    "plt.figure(figsize=(30,20))\n",
    "\n",
    "sns.countplot(y=col, hue=dados['banking_crisis'], data=dados, palette=['red','purple'])\n",
    "plt.legend(loc='upper right')\n",
    "plt.show()"
   ]
  },
  {
   "cell_type": "code",
   "execution_count": null,
   "id": "8ee06c7d-723d-4412-ab54-da410bb57c89",
   "metadata": {},
   "outputs": [],
   "source": [
    "pandaexp.labels_frequentes(inicia_lf=1, opcao_lf='c')  "
   ]
  },
  {
   "cell_type": "code",
   "execution_count": null,
   "id": "9d76a6ed-1fa9-4050-83c8-8c7c7b78227c",
   "metadata": {},
   "outputs": [],
   "source": [
    "#kind{‘quicksort’, ‘mergesort’, ‘heapsort’, ‘stable’}\n",
    "#ignore_indexbool, default False\n",
    "dados['year'].sort_values(ascending=True).astype(str).str.slice(start=2, stop=4).iloc[500:550]"
   ]
  },
  {
   "cell_type": "code",
   "execution_count": null,
   "id": "f0252740-70d9-4efa-a5b2-2e1cce47fbc1",
   "metadata": {},
   "outputs": [],
   "source": [
    "dados['year'].astype(str).str.slice(start=2, stop=4)"
   ]
  },
  {
   "cell_type": "code",
   "execution_count": null,
   "id": "68655765-7e4e-4e87-899f-0a4a28049416",
   "metadata": {},
   "outputs": [],
   "source": [
    "# anos_2_unidades = dados['year'].astype(str) # retorna um pandas series com os valores do ano\n",
    "# df[\"colunm\"].str.slice(start=5, stop=10) para um coluna já de strings(ou object), para fatiar todas as linhas \n",
    "# do caractere 5 até o caractere 10 \n",
    "# dados['year'].astype(str).str.slice(start=2) transforma uma coluna numérica em uma string para então fatiar do segundo caractere\n",
    "# até o último\n",
    "# anos_2_unidades.str.slice(start=2)\n",
    "dados['ano_unidade'] = dados['year'].astype(str).str.slice(start=2)\n",
    "dados['ano_unidade'].shape"
   ]
  },
  {
   "cell_type": "code",
   "execution_count": null,
   "id": "c2c98c87-e763-4536-aacc-a0d62b9b1019",
   "metadata": {},
   "outputs": [],
   "source": [
    "col = dados.iloc[:,3] # coluna 'year'\n",
    "col2 = dados.iloc[:,4] # coluna 'systemic_crisis'\n",
    "plt.figure(figsize=(12,27))\n",
    "\n",
    "sns.countplot(y=col, hue=col2, data=dados, palette=['red','purple'])\n",
    "plt.legend(loc='upper right')\n",
    "#cores contrastantes para melhorar a percepção\n",
    "plt.show()"
   ]
  },
  {
   "cell_type": "code",
   "execution_count": null,
   "id": "69715d5e-7c4f-41a8-9c8b-c610e1b3c40f",
   "metadata": {},
   "outputs": [],
   "source": [
    "col = 'banking_crisis'\n",
    "plt.figure(figsize=(12,6))\n",
    "\n",
    "sns.countplot(x=col, hue=dados['cc3'], data=dados, palette='Reds_r') #palette=['red','purple'], orient='v')\n",
    "plt.legend(loc='upper right')\n",
    "# best', 'upper right', 'upper left', 'lower left', 'lower right', 'right', 'center left', 'center right', 'lower center', 'upper center', 'center'\n",
    "#cores fria com cores frias e cores quentes com cores quentes!\n",
    "plt.show()"
   ]
  },
  {
   "cell_type": "code",
   "execution_count": null,
   "id": "080bbeb9-26ee-45b7-8be3-fae9e99d27da",
   "metadata": {},
   "outputs": [],
   "source": [
    "col = 'domestic_debt_in_default'\n",
    "plt.figure(figsize=(12,6))\n",
    "\n",
    "sns.countplot(x=col, hue=dados['cc3'], data=dados, palette='Reds_r') #palette=['red','purple'], orient='v')\n",
    "plt.legend(loc='upper right')\n",
    "# best', 'upper right', 'upper left', 'lower left', 'lower right', 'right', 'center left', 'center right', 'lower center', 'upper center', 'center'\n",
    "#cores fria com cores frias e cores quentes com cores quentes!\n",
    "plt.show()"
   ]
  },
  {
   "cell_type": "code",
   "execution_count": null,
   "id": "c6da515c-f098-4561-b7ef-ea0f9af0ac4b",
   "metadata": {},
   "outputs": [],
   "source": [
    "# palette=['red','purple'] --> ou desta forma\n",
    "# colors = {'high risk' : '#0000AA', 'medium risk' : '#7777DD', 'low risk' : '#9999FF'} use desta forma para colorir as categoria de diferentes cores\n",
    "col = 'domestic_debt_in_default'\n",
    "plt.figure(figsize=(12,6))\n",
    "cores = {1 : 'black', 0 : 'red'}\n",
    "sns.countplot(x=dados['cc3'], hue=col, data=dados, palette=cores) \n",
    "plt.legend(loc='upper right')\n",
    "plt.show()"
   ]
  },
  {
   "cell_type": "code",
   "execution_count": null,
   "id": "a3cc3e3d-cbb5-46ec-955f-9abaf0852957",
   "metadata": {},
   "outputs": [],
   "source": [
    "col = 'systemic_crisis'\n",
    "plt.figure(figsize=(12,6))\n",
    "\n",
    "sns.countplot(x=col, hue=dados['cc3'], data=dados, palette='Reds_r') \n",
    "plt.legend(loc='upper right')\n",
    "plt.show()"
   ]
  },
  {
   "cell_type": "code",
   "execution_count": null,
   "id": "318b4013",
   "metadata": {},
   "outputs": [],
   "source": [
    "col = 'domestic_debt_in_default'\n",
    "plt.figure(figsize=(12,6))\n",
    "\n",
    "sns.countplot(x=col, hue=dados['cc3'], data=dados, palette='Reds_r') #palette=['red','purple'], orient='v')\n",
    "plt.legend(loc='upper right')\n",
    "# best', 'upper right', 'upper left', 'lower left', 'lower right', 'right', 'center left', 'center right', 'lower center', 'upper center', 'center'\n",
    "#cores fria com cores frias e cores quentes com cores quentes!\n",
    "plt.show()"
   ]
  },
  {
   "cell_type": "code",
   "execution_count": null,
   "id": "1707806f-f515-4b64-a8ef-5c6b0a51b5eb",
   "metadata": {},
   "outputs": [],
   "source": [
    "# 0:crisis; 1:no_crisis \n",
    "#cria um dicionario com cada indice dos \"dados\" que possui 0 ou 1\n",
    "dict_bank = dados.groupby('banking_crisis')\n",
    "# dict_bank.groups para mostrar o dicionario\n",
    "\n",
    "#cria um dicionario com cada indice dos \"dados\" em que o pais aparece quando a variavel banking_crisis é 0 ou 1\n",
    "dict_bank_country = dados.groupby(['banking_crisis','cc3'])\n",
    "# dict_bank_country.first() para mostrar os primeiros registros diretamente do dataframe\n",
    "# dict_bank.sum() para somar todas as linhas de todas as colunas destacando a variavel banking_crisis\n",
    "# dados.groupby(['banking_crisis'], sort = True).sum()\n",
    "# dados.groupby(['cc3']).groups para ver em quais indices cada pais aparece"
   ]
  },
  {
   "cell_type": "code",
   "execution_count": null,
   "id": "2c8c9c6e-3ad7-469a-ab69-08a282ac1be0",
   "metadata": {},
   "outputs": [],
   "source": [
    "# dados.groupby('banking_crisis').get_group(1) agrupa por banking_crisis e mostra só os valores com banking_crisis=1\n",
    "# dados.groupby('cc3').get_group('DZA') agrupa por cc3 e mostra os registros com o nome DZA\n",
    "# dados.groupby(['cc3','banking_crisis']).get_group(('DZA', 1)) agrupa por cc3 e banking_crisis e mostra os registros com DZA e banking_crisis=1\n",
    "# dados.groupby(['cc3','banking_crisis']).get_group(('DZA', 1)).aggregate(np.sum) faz o mesmo que o de cima, \n",
    "# a diferença esta no .aggregate(np.sum), aonde ele soma todas as colunas dos registros que foram passados\n",
    "# dados.groupby(['cc3','banking_crisis']).get_group(('EGY', 1)).aggregate(np.sum)\n",
    "# dados.groupby('banking_crisis').get_group(1).aggregate(np.sum) \n",
    "# dados.groupby(['cc3','banking_crisis']).aggregate(np.sum) agrupa tudo por cc3 e banking_crisis\n",
    "# dados.groupby(['cc3','banking_crisis']).agg([np.sum, np.mean, np.std]) agrupa por cc3 e banking_crisis \n",
    "# e utiliza dos metodos da lib numpy para calcular a media, a soma e o desvio padrao de cada coluna \n",
    "# dados.groupby('cc3').agg({'inflation_annual_cpi':'sum','exch_usd':['std', 'sum','max']}) mostra a soma de inflation_annual_cpi\n",
    "# e o desvio padrão, a soma e o valores maximos de exch_usd agrupados a partir dos labels de cc3\n",
    "\n",
    "# dados.agg({'inflation_annual_cpi':'sum','exch_usd':['std', 'sum','max']}) mostra a soma de inflation_annual_cpi\n",
    "# e o desvio padrão, a soma e o valores maximos de exch_usd de todo o dataframe\n",
    "\n",
    "# dados.agg(\"mean\") mostra a média de cada coluna\n",
    "# dados[dados['inflation_annual_cpi'] > 300] mostra os registros em que inflation_annual_cpi é maior que 300\n",
    "# dados[(dados['inflation_annual_cpi'] > 4) & (dados['inflation_annual_cpi'] <= 5)] para ver os registros \n",
    "# em que inflation_annual_cpi está menor que 4 e maior que ou igual a 5\n"
   ]
  },
  {
   "cell_type": "code",
   "execution_count": null,
   "id": "fb8b1ef1-dc54-4134-8830-2c37c745a862",
   "metadata": {},
   "outputs": [],
   "source": [
    "# para vermos de um forma mais simples, pois cada ponto será agrupado\n",
    "plt.figure(figsize=(10,6))\n",
    "b = dados.loc[dados['systemic_crisis']==1,]\n",
    "c = dados.loc[dados['systemic_crisis']==0,]\n",
    "plt.scatter(b['year'], b['cc3'])\n",
    "plt.scatter(c['year'], c['cc3'])\n",
    "plt.legend(['systemic_crisis 1', 'systemic_crisis 0'], loc='upper left')#([primeiro dado passado, segundo dado])"
   ]
  },
  {
   "cell_type": "code",
   "execution_count": null,
   "id": "e775b827-c209-4998-8e08-b007c812658b",
   "metadata": {},
   "outputs": [],
   "source": [
    "# e aqui os pontos estarão mais separados, podendo ver com mais detalhes\n",
    "plt.figure(figsize=(19,6))\n",
    "b = dados.loc[dados['systemic_crisis']==1,]\n",
    "c = dados.loc[dados['systemic_crisis']==0,]\n",
    "plt.scatter(b['year'], b['cc3'])\n",
    "plt.scatter(c['year'], c['cc3'])\n",
    "plt.legend(['systemic_crisis 1', 'systemic_crisis 0'], loc='upper left')#([primeiro dado passado, segundo dado])"
   ]
  },
  {
   "cell_type": "code",
   "execution_count": null,
   "id": "c17d1b31-fe80-4916-ae6e-2e94cba9d1d1",
   "metadata": {},
   "outputs": [],
   "source": [
    "dados.groupby(['cc3','systemic_crisis']).get_group(('ZAF', 0))"
   ]
  },
  {
   "cell_type": "code",
   "execution_count": null,
   "id": "8b4ba1f7-c643-4c8b-b70b-47c37d1f59bf",
   "metadata": {},
   "outputs": [],
   "source": [
    "#correlograma para ver quais variaveis mudam linearmente conjutamente  \n",
    "plt.figure(figsize=(12,6))\n",
    "sns.heatmap(dados.corr(),annot=True,cmap='Blues')\n",
    "plt.show()"
   ]
  },
  {
   "cell_type": "code",
   "execution_count": null,
   "id": "aadd17ca-9aef-4d65-8b6c-7d2f7fe2f2bf",
   "metadata": {},
   "outputs": [],
   "source": [
    "plt.hist(dados['banking_crisis'])\n",
    "plt.show()"
   ]
  }
 ],
 "metadata": {
  "kernelspec": {
   "display_name": "Python 3 (ipykernel)",
   "language": "python",
   "name": "python3"
  },
  "language_info": {
   "codemirror_mode": {
    "name": "ipython",
    "version": 3
   },
   "file_extension": ".py",
   "mimetype": "text/x-python",
   "name": "python",
   "nbconvert_exporter": "python",
   "pygments_lexer": "ipython3",
   "version": "3.9.12"
  }
 },
 "nbformat": 4,
 "nbformat_minor": 5
}
